{
 "cells": [
  {
   "cell_type": "code",
   "execution_count": 1,
   "metadata": {},
   "outputs": [
    {
     "name": "stderr",
     "output_type": "stream",
     "text": [
      "2022-09-10 11:07:37.506216: I tensorflow/stream_executor/platform/default/dso_loader.cc:49] Successfully opened dynamic library libcudart.so.10.1\n"
     ]
    }
   ],
   "source": [
    "from tensorflow import keras\n",
    "from tensorflow.keras import layers\n",
    "\n",
    "from keras.datasets import fashion_mnist\n",
    "\n",
    "import matplotlib.pyplot as plt\n",
    "from matplotlib.image import imread\n",
    "import numpy as np\n",
    "\n",
    "import tensorflow as tf\n",
    "\n",
    "import random"
   ]
  },
  {
   "cell_type": "code",
   "execution_count": 2,
   "metadata": {},
   "outputs": [],
   "source": [
    "(x_train, y_train), (x_test, y_test) = fashion_mnist.load_data()"
   ]
  },
  {
   "cell_type": "code",
   "execution_count": 3,
   "metadata": {},
   "outputs": [],
   "source": [
    "# Normalize the data\n",
    "x_train = x_train / x_train.max()\n",
    "x_test = x_test / x_test.max()\n",
    "\n",
    "# Category to one hot encoding\n",
    "categories = y_train.max() - y_train.min() + 1\n",
    "\n",
    "y_train = np.eye(categories)[y_train]\n",
    "y_test = np.eye(categories)[y_test]"
   ]
  },
  {
   "cell_type": "code",
   "execution_count": 4,
   "metadata": {},
   "outputs": [],
   "source": [
    "# Create a list of human redable categories\n",
    "human_category = [\"T-shirt\", \"Trouser\", \"Pullover\", \"Dress\", \"Coat\", \"Sandals\", \"Shirt\", \"Sneaker\", \"Bag\", \"Ankle boots\"]"
   ]
  },
  {
   "cell_type": "code",
   "execution_count": 5,
   "metadata": {},
   "outputs": [
    {
     "data": {
      "image/png": "[encoded data removed]",
      "text/plain": [
       "<Figure size 640x480 with 1 Axes>"
      ]
     },
     "metadata": {},
     "output_type": "display_data"
    },
    {
     "name": "stdout",
     "output_type": "stream",
     "text": [
      "categoty: Coat\n"
     ]
    }
   ],
   "source": [
    "# Display a random element of the dataset\n",
    "element = random.randint(0, len(x_train) - 1)\n",
    "\n",
    "plt.imshow(x_train[element])\n",
    "plt.show()\n",
    "\n",
    "# Print the label\n",
    "print(f\"categoty: {human_category[y_train[element].argmax()]}\")\n"
   ]
  },
  {
   "cell_type": "code",
   "execution_count": 6,
   "metadata": {},
   "outputs": [
    {
     "name": "stderr",
     "output_type": "stream",
     "text": [
      "2022-09-10 11:07:39.667307: I tensorflow/compiler/jit/xla_cpu_device.cc:41] Not creating XLA devices, tf_xla_enable_xla_devices not set\n",
      "2022-09-10 11:07:39.667933: I tensorflow/stream_executor/platform/default/dso_loader.cc:49] Successfully opened dynamic library libcuda.so.1\n",
      "2022-09-10 11:07:39.683441: I tensorflow/stream_executor/cuda/cuda_gpu_executor.cc:941] successful NUMA node read from SysFS had negative value (-1), but there must be at least one NUMA node, so returning NUMA node zero\n",
      "2022-09-10 11:07:39.683604: I tensorflow/core/common_runtime/gpu/gpu_device.cc:1720] Found device 0 with properties: \n",
      "pciBusID: 0000:26:00.0 name: NVIDIA GeForce RTX 2060 computeCapability: 7.5\n",
      "coreClock: 1.83GHz coreCount: 30 deviceMemorySize: 5.79GiB deviceMemoryBandwidth: 312.97GiB/s\n",
      "2022-09-10 11:07:39.683621: I tensorflow/stream_executor/platform/default/dso_loader.cc:49] Successfully opened dynamic library libcudart.so.10.1\n",
      "2022-09-10 11:07:39.684804: I tensorflow/stream_executor/platform/default/dso_loader.cc:49] Successfully opened dynamic library libcublas.so.10\n",
      "2022-09-10 11:07:39.684842: I tensorflow/stream_executor/platform/default/dso_loader.cc:49] Successfully opened dynamic library libcublasLt.so.10\n",
      "2022-09-10 11:07:39.685950: I tensorflow/stream_executor/platform/default/dso_loader.cc:49] Successfully opened dynamic library libcufft.so.10\n",
      "2022-09-10 11:07:39.686137: I tensorflow/stream_executor/platform/default/dso_loader.cc:49] Successfully opened dynamic library libcurand.so.10\n",
      "2022-09-10 11:07:39.687425: I tensorflow/stream_executor/platform/default/dso_loader.cc:49] Successfully opened dynamic library libcusolver.so.10\n",
      "2022-09-10 11:07:39.688078: I tensorflow/stream_executor/platform/default/dso_loader.cc:49] Successfully opened dynamic library libcusparse.so.10\n",
      "2022-09-10 11:07:39.690473: I tensorflow/stream_executor/platform/default/dso_loader.cc:49] Successfully opened dynamic library libcudnn.so.7\n",
      "2022-09-10 11:07:39.690625: I tensorflow/stream_executor/cuda/cuda_gpu_executor.cc:941] successful NUMA node read from SysFS had negative value (-1), but there must be at least one NUMA node, so returning NUMA node zero\n",
      "2022-09-10 11:07:39.690820: I tensorflow/stream_executor/cuda/cuda_gpu_executor.cc:941] successful NUMA node read from SysFS had negative value (-1), but there must be at least one NUMA node, so returning NUMA node zero\n",
      "2022-09-10 11:07:39.690964: I tensorflow/core/common_runtime/gpu/gpu_device.cc:1862] Adding visible gpu devices: 0\n",
      "2022-09-10 11:07:39.691284: I tensorflow/core/platform/cpu_feature_guard.cc:142] This TensorFlow binary is optimized with oneAPI Deep Neural Network Library (oneDNN) to use the following CPU instructions in performance-critical operations:  SSE4.1 SSE4.2 AVX AVX2 FMA\n",
      "To enable them in other operations, rebuild TensorFlow with the appropriate compiler flags.\n",
      "2022-09-10 11:07:39.691702: I tensorflow/compiler/jit/xla_gpu_device.cc:99] Not creating XLA devices, tf_xla_enable_xla_devices not set\n",
      "2022-09-10 11:07:39.691781: I tensorflow/stream_executor/cuda/cuda_gpu_executor.cc:941] successful NUMA node read from SysFS had negative value (-1), but there must be at least one NUMA node, so returning NUMA node zero\n",
      "2022-09-10 11:07:39.691908: I tensorflow/core/common_runtime/gpu/gpu_device.cc:1720] Found device 0 with properties: \n",
      "pciBusID: 0000:26:00.0 name: NVIDIA GeForce RTX 2060 computeCapability: 7.5\n",
      "coreClock: 1.83GHz coreCount: 30 deviceMemorySize: 5.79GiB deviceMemoryBandwidth: 312.97GiB/s\n",
      "2022-09-10 11:07:39.691930: I tensorflow/stream_executor/platform/default/dso_loader.cc:49] Successfully opened dynamic library libcudart.so.10.1\n",
      "2022-09-10 11:07:39.691950: I tensorflow/stream_executor/platform/default/dso_loader.cc:49] Successfully opened dynamic library libcublas.so.10\n",
      "2022-09-10 11:07:39.691959: I tensorflow/stream_executor/platform/default/dso_loader.cc:49] Successfully opened dynamic library libcublasLt.so.10\n",
      "2022-09-10 11:07:39.691968: I tensorflow/stream_executor/platform/default/dso_loader.cc:49] Successfully opened dynamic library libcufft.so.10\n",
      "2022-09-10 11:07:39.691976: I tensorflow/stream_executor/platform/default/dso_loader.cc:49] Successfully opened dynamic library libcurand.so.10\n",
      "2022-09-10 11:07:39.691985: I tensorflow/stream_executor/platform/default/dso_loader.cc:49] Successfully opened dynamic library libcusolver.so.10\n",
      "2022-09-10 11:07:39.691994: I tensorflow/stream_executor/platform/default/dso_loader.cc:49] Successfully opened dynamic library libcusparse.so.10\n",
      "2022-09-10 11:07:39.692003: I tensorflow/stream_executor/platform/default/dso_loader.cc:49] Successfully opened dynamic library libcudnn.so.7\n",
      "2022-09-10 11:07:39.692045: I tensorflow/stream_executor/cuda/cuda_gpu_executor.cc:941] successful NUMA node read from SysFS had negative value (-1), but there must be at least one NUMA node, so returning NUMA node zero\n",
      "2022-09-10 11:07:39.692190: I tensorflow/stream_executor/cuda/cuda_gpu_executor.cc:941] successful NUMA node read from SysFS had negative value (-1), but there must be at least one NUMA node, so returning NUMA node zero\n",
      "2022-09-10 11:07:39.692310: I tensorflow/core/common_runtime/gpu/gpu_device.cc:1862] Adding visible gpu devices: 0\n",
      "2022-09-10 11:07:39.692336: I tensorflow/stream_executor/platform/default/dso_loader.cc:49] Successfully opened dynamic library libcudart.so.10.1\n",
      "2022-09-10 11:07:40.143849: I tensorflow/core/common_runtime/gpu/gpu_device.cc:1261] Device interconnect StreamExecutor with strength 1 edge matrix:\n",
      "2022-09-10 11:07:40.143880: I tensorflow/core/common_runtime/gpu/gpu_device.cc:1267]      0 \n",
      "2022-09-10 11:07:40.143887: I tensorflow/core/common_runtime/gpu/gpu_device.cc:1280] 0:   N \n",
      "2022-09-10 11:07:40.144092: I tensorflow/stream_executor/cuda/cuda_gpu_executor.cc:941] successful NUMA node read from SysFS had negative value (-1), but there must be at least one NUMA node, so returning NUMA node zero\n",
      "2022-09-10 11:07:40.144343: I tensorflow/stream_executor/cuda/cuda_gpu_executor.cc:941] successful NUMA node read from SysFS had negative value (-1), but there must be at least one NUMA node, so returning NUMA node zero\n",
      "2022-09-10 11:07:40.144564: I tensorflow/stream_executor/cuda/cuda_gpu_executor.cc:941] successful NUMA node read from SysFS had negative value (-1), but there must be at least one NUMA node, so returning NUMA node zero\n",
      "2022-09-10 11:07:40.144740: I tensorflow/core/common_runtime/gpu/gpu_device.cc:1406] Created TensorFlow device (/job:localhost/replica:0/task:0/device:GPU:0 with 4791 MB memory) -> physical GPU (device: 0, name: NVIDIA GeForce RTX 2060, pci bus id: 0000:26:00.0, compute capability: 7.5)\n"
     ]
    }
   ],
   "source": [
    "# Define the model\n",
    "model = keras.Sequential()\n",
    "\n",
    "# Input\n",
    "model.add(layers.Flatten())\n",
    "\n",
    "# Hidden\n",
    "model.add(layers.Dense(128, activation=\"relu\"))\n",
    "model.add(layers.Dense(128, activation=\"relu\"))\n",
    "\n",
    "\n",
    "# Output\n",
    "model.add(layers.Dense(categories, activation=\"softmax\"))\n",
    "\n",
    "\n",
    "# Compile the model\n",
    "learning_rate = 0.01\n",
    "\n",
    "model.compile(optimizer=keras.optimizers.Adam(learning_rate),\n",
    "              loss=keras.losses.CategoricalCrossentropy(),\n",
    "              metrics=[\"accuracy\"])"
   ]
  },
  {
   "cell_type": "code",
   "execution_count": 7,
   "metadata": {},
   "outputs": [
    {
     "name": "stderr",
     "output_type": "stream",
     "text": [
      "2022-09-10 11:07:40.399501: I tensorflow/compiler/mlir/mlir_graph_optimization_pass.cc:116] None of the MLIR optimization passes are enabled (registered 2)\n",
      "2022-09-10 11:07:40.399832: I tensorflow/core/platform/profile_utils/cpu_utils.cc:112] CPU Frequency: 3999890000 Hz\n"
     ]
    },
    {
     "name": "stdout",
     "output_type": "stream",
     "text": [
      "Epoch 1/20\n",
      "   1/1875 [..............................] - ETA: 14:03 - loss: 2.3302 - accuracy: 0.1562"
     ]
    },
    {
     "name": "stderr",
     "output_type": "stream",
     "text": [
      "2022-09-10 11:07:40.690092: I tensorflow/stream_executor/platform/default/dso_loader.cc:49] Successfully opened dynamic library libcublas.so.10\n"
     ]
    },
    {
     "name": "stdout",
     "output_type": "stream",
     "text": [
      "1875/1875 [==============================] - 2s 1ms/step - loss: 0.6705 - accuracy: 0.7580\n",
      "Epoch 2/20\n",
      "1875/1875 [==============================] - 2s 1ms/step - loss: 0.4540 - accuracy: 0.8383\n",
      "Epoch 3/20\n",
      "1875/1875 [==============================] - 2s 973us/step - loss: 0.4222 - accuracy: 0.8525\n",
      "Epoch 4/20\n",
      "1875/1875 [==============================] - 2s 950us/step - loss: 0.4012 - accuracy: 0.8566\n",
      "Epoch 5/20\n",
      "1875/1875 [==============================] - 2s 947us/step - loss: 0.4021 - accuracy: 0.8575\n",
      "Epoch 6/20\n",
      "1875/1875 [==============================] - 2s 910us/step - loss: 0.3913 - accuracy: 0.8598\n",
      "Epoch 7/20\n",
      "1875/1875 [==============================] - 2s 937us/step - loss: 0.3898 - accuracy: 0.8587\n",
      "Epoch 8/20\n",
      "1875/1875 [==============================] - 2s 993us/step - loss: 0.3786 - accuracy: 0.8654\n",
      "Epoch 9/20\n",
      "1875/1875 [==============================] - 2s 932us/step - loss: 0.3892 - accuracy: 0.8612\n",
      "Epoch 10/20\n",
      "1875/1875 [==============================] - 2s 921us/step - loss: 0.3740 - accuracy: 0.8650\n",
      "Epoch 11/20\n",
      "1875/1875 [==============================] - 2s 965us/step - loss: 0.3658 - accuracy: 0.8693\n",
      "Epoch 12/20\n",
      "1875/1875 [==============================] - 2s 958us/step - loss: 0.3741 - accuracy: 0.8662\n",
      "Epoch 13/20\n",
      "1875/1875 [==============================] - 2s 965us/step - loss: 0.3649 - accuracy: 0.8697\n",
      "Epoch 14/20\n",
      "1875/1875 [==============================] - 2s 948us/step - loss: 0.3644 - accuracy: 0.8715\n",
      "Epoch 15/20\n",
      "1875/1875 [==============================] - 2s 989us/step - loss: 0.3594 - accuracy: 0.8739\n",
      "Epoch 16/20\n",
      "1875/1875 [==============================] - 2s 991us/step - loss: 0.3604 - accuracy: 0.8702\n",
      "Epoch 17/20\n",
      "1875/1875 [==============================] - 2s 1ms/step - loss: 0.3654 - accuracy: 0.8697\n",
      "Epoch 18/20\n",
      "1875/1875 [==============================] - 2s 968us/step - loss: 0.3589 - accuracy: 0.8718\n",
      "Epoch 19/20\n",
      "1875/1875 [==============================] - 2s 964us/step - loss: 0.3597 - accuracy: 0.8729\n",
      "Epoch 20/20\n",
      "1875/1875 [==============================] - 2s 981us/step - loss: 0.3515 - accuracy: 0.8753\n",
      "\n",
      "evaluation: \n",
      "\n",
      "313/313 [==============================] - 0s 991us/step - loss: 0.4538 - accuracy: 0.8471\n"
     ]
    },
    {
     "data": {
      "text/plain": [
       "[0.45376572012901306, 0.847100019454956]"
      ]
     },
     "execution_count": 7,
     "metadata": {},
     "output_type": "execute_result"
    }
   ],
   "source": [
    "# Train and evaluate the model \n",
    "batch_size = 32\n",
    "epochs = 10\n",
    "\n",
    "model.fit(x=x_train, y=y_train, batch_size=batch_size, epochs=epochs)\n",
    "\n",
    "\n",
    "# Evaluate\n",
    "print(\"\\nevaluation: \\n\")\n",
    "model.evaluate(x_test, y_test)"
   ]
  },
  {
   "cell_type": "code",
   "execution_count": 66,
   "metadata": {},
   "outputs": [
    {
     "data": {
      "image/png": "[encoded data removed]",
      "text/plain": [
       "<Figure size 640x480 with 1 Axes>"
      ]
     },
     "metadata": {},
     "output_type": "display_data"
    },
    {
     "name": "stdout",
     "output_type": "stream",
     "text": [
      "predicted: Sandals\n",
      "real: Sandals\n"
     ]
    }
   ],
   "source": [
    "# Make prediction on the test dataset\n",
    "# Select a random element from the test dataset\n",
    "element = random.randint(0, len(x_test) - 1)\n",
    "\n",
    "plt.imshow(x_test[element])\n",
    "plt.show()\n",
    "\n",
    "\n",
    "# Make prediction\n",
    "pred_category = model.predict(x_test[element].reshape(1, 28, 28))\n",
    "pred_category = pred_category.argmax()\n",
    "# Get the real value\n",
    "real_categoty = y_test[element].argmax()\n",
    "\n",
    "\n",
    "print(f\"predicted: {human_category[pred_category]}\\nreal: {human_category[real_categoty]}\")"
   ]
  }
 ],
 "metadata": {
  "kernelspec": {
   "display_name": "Python 3.10.4 64-bit",
   "language": "python",
   "name": "python3"
  },
  "language_info": {
   "codemirror_mode": {
    "name": "ipython",
    "version": 3
   },
   "file_extension": ".py",
   "mimetype": "text/x-python",
   "name": "python",
   "nbconvert_exporter": "python",
   "pygments_lexer": "ipython3",
   "version": "3.10.4"
  },
  "orig_nbformat": 4,
  "vscode": {
   "interpreter": {
    "hash": "916dbcbb3f70747c44a77c7bcd40155683ae19c65e1c03b4aa3499c5328201f1"
   }
  }
 },
 "nbformat": 4,
 "nbformat_minor": 2
}
