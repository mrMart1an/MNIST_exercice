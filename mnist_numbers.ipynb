{
 "cells": [
  {
   "cell_type": "code",
   "execution_count": 11,
   "metadata": {},
   "outputs": [],
   "source": [
    "from tensorflow import keras\n",
    "from tensorflow.keras import layers\n",
    "\n",
    "from keras.datasets import mnist\n",
    "\n",
    "import matplotlib.pyplot as plt\n",
    "from matplotlib.image import imread\n",
    "import numpy as np\n",
    "\n",
    "import tensorflow as tf\n",
    "\n",
    "import random"
   ]
  },
  {
   "cell_type": "code",
   "execution_count": 12,
   "metadata": {},
   "outputs": [],
   "source": [
    "# Load the dataset\n",
    "(x_train, y_train), (x_test, y_test) = mnist.load_data()"
   ]
  },
  {
   "cell_type": "code",
   "execution_count": 13,
   "metadata": {},
   "outputs": [
    {
     "name": "stdout",
     "output_type": "stream",
     "text": [
      "8\n"
     ]
    },
    {
     "data": {
      "image/png": "[encoded data removed]",
      "text/plain": [
       "<Figure size 640x480 with 1 Axes>"
      ]
     },
     "metadata": {},
     "output_type": "display_data"
    }
   ],
   "source": [
    "# Display a random element of the dataset\n",
    "element = random.randint(0, len(x_train) - 1)\n",
    "\n",
    "print(y_train[element])\n",
    "\n",
    "\n",
    "plt.imshow(x_train[element])\n",
    "plt.show()"
   ]
  },
  {
   "cell_type": "code",
   "execution_count": 14,
   "metadata": {},
   "outputs": [],
   "source": [
    "# Normalize the data set\n",
    "max = x_train.max()\n",
    "\n",
    "x_train = x_train / max\n",
    "x_test = x_test / max"
   ]
  },
  {
   "cell_type": "code",
   "execution_count": 15,
   "metadata": {},
   "outputs": [],
   "source": [
    "# Generate one hot encoding for the y\n",
    "categories = y_train.max() - y_train.min() + 1\n",
    "\n",
    "y_train = np.eye(categories)[y_train]\n",
    "y_test = np.eye(categories)[y_test]"
   ]
  },
  {
   "cell_type": "code",
   "execution_count": 18,
   "metadata": {},
   "outputs": [],
   "source": [
    "# Define the model\n",
    "model = keras.Sequential(\n",
    "    [\n",
    "        # Input\n",
    "        layers.Flatten(),\n",
    "\n",
    "        # Hidden\n",
    "        layers.Dense(28 * 28, activation=\"relu\"),\n",
    "        layers.Dense(20, activation=\"relu\"),\n",
    "        layers.Dense(20, activation=\"relu\"),\n",
    "\n",
    "        # Output\n",
    "        layers.Dense(categories, activation=\"softmax\")\n",
    "    ]\n",
    ")\n",
    "\n",
    "\n",
    "# Compile the model\n",
    "learning_rate = 0.01\n",
    "\n",
    "model.compile(optimizer=keras.optimizers.Adam(learning_rate),\n",
    "              loss=keras.losses.CategoricalCrossentropy(), metrics=['accuracy'])"
   ]
  },
  {
   "cell_type": "code",
   "execution_count": 19,
   "metadata": {},
   "outputs": [
    {
     "name": "stdout",
     "output_type": "stream",
     "text": [
      "Epoch 1/10\n",
      "1875/1875 [==============================] - 3s 2ms/step - loss: 0.3176 - accuracy: 0.9087\n",
      "Epoch 2/10\n",
      "1875/1875 [==============================] - 3s 2ms/step - loss: 0.1733 - accuracy: 0.9554\n",
      "Epoch 3/10\n",
      "1875/1875 [==============================] - 3s 2ms/step - loss: 0.1488 - accuracy: 0.9619\n",
      "Epoch 4/10\n",
      "1875/1875 [==============================] - 3s 2ms/step - loss: 0.1305 - accuracy: 0.9676\n",
      "Epoch 5/10\n",
      "1875/1875 [==============================] - 3s 2ms/step - loss: 0.1191 - accuracy: 0.9723\n",
      "Epoch 6/10\n",
      "1875/1875 [==============================] - 3s 2ms/step - loss: 0.1125 - accuracy: 0.9741\n",
      "Epoch 7/10\n",
      "1875/1875 [==============================] - 3s 2ms/step - loss: 0.0963 - accuracy: 0.9776\n",
      "Epoch 8/10\n",
      "1875/1875 [==============================] - 3s 2ms/step - loss: 0.0954 - accuracy: 0.9779\n",
      "Epoch 9/10\n",
      "1875/1875 [==============================] - 3s 2ms/step - loss: 0.0945 - accuracy: 0.9783\n",
      "Epoch 10/10\n",
      "1875/1875 [==============================] - 3s 2ms/step - loss: 0.0845 - accuracy: 0.9811\n"
     ]
    },
    {
     "data": {
      "text/plain": [
       "<keras.callbacks.History at 0x7f9b5430b1c0>"
      ]
     },
     "execution_count": 19,
     "metadata": {},
     "output_type": "execute_result"
    }
   ],
   "source": [
    "# Train the model\n",
    "batch_size = 32\n",
    "epochs = 10\n",
    "\n",
    "model.fit(x=x_train, y=y_train, batch_size=batch_size, epochs=epochs)"
   ]
  },
  {
   "cell_type": "code",
   "execution_count": 20,
   "metadata": {},
   "outputs": [
    {
     "name": "stdout",
     "output_type": "stream",
     "text": [
      "313/313 [==============================] - 1s 1ms/step - loss: 0.1556 - accuracy: 0.9714\n"
     ]
    },
    {
     "data": {
      "text/plain": [
       "[0.15556690096855164, 0.9714000225067139]"
      ]
     },
     "execution_count": 20,
     "metadata": {},
     "output_type": "execute_result"
    }
   ],
   "source": [
    "# Test the model\n",
    "model.evaluate(x_test, y_test)"
   ]
  },
  {
   "cell_type": "code",
   "execution_count": 21,
   "metadata": {},
   "outputs": [
    {
     "data": {
      "image/png": "[encoded data removed]",
      "text/plain": [
       "<Figure size 640x480 with 1 Axes>"
      ]
     },
     "metadata": {},
     "output_type": "display_data"
    },
    {
     "name": "stdout",
     "output_type": "stream",
     "text": [
      "1/1 [==============================] - 0s 52ms/step\n",
      "element: 6868\n",
      "prediction: 1\n",
      "real value: 1\n"
     ]
    }
   ],
   "source": [
    "# Make predictions on a random element\n",
    "element = random.randint(0, len(y_test) - 1)\n",
    "\n",
    "# Show the element\n",
    "plt.imshow(x_test[element].reshape(28, 28))\n",
    "plt.show()\n",
    "\n",
    "\n",
    "# Predict the value\n",
    "prediction = model.predict(x_test[element].reshape(1, 28, 28)).reshape(-1)\n",
    "real_value = y_test[element]\n",
    "\n",
    "\n",
    "# Format the output\n",
    "prediction_category = prediction.argmax()\n",
    "real_value_category = real_value.argmax()\n",
    "\n",
    "\n",
    "# Print the result\n",
    "print(f\"element: {element}\")\n",
    "print(f\"prediction: {prediction_category}\\nreal value: {real_value_category}\")"
   ]
  },
  {
   "cell_type": "code",
   "execution_count": 22,
   "metadata": {},
   "outputs": [
    {
     "data": {
      "image/png": "[encoded data removed]",
      "text/plain": [
       "<Figure size 640x480 with 1 Axes>"
      ]
     },
     "metadata": {},
     "output_type": "display_data"
    },
    {
     "name": "stdout",
     "output_type": "stream",
     "text": [
      "1/1 [==============================] - 0s 17ms/step\n",
      "prediction: 3 - 100.\n"
     ]
    }
   ],
   "source": [
    "# Test the model with a local image\n",
    "\n",
    "# Load the image\n",
    "image = imread(\"custom_image/test.png\")\n",
    "\n",
    "# Display the image\n",
    "plt.imshow(image)\n",
    "plt.show()\n",
    "\n",
    "\n",
    "# Reshape to the input of the model\n",
    "image_reshaped = image.reshape(1, 28, 28)\n",
    "\n",
    "# Predict the value\n",
    "prediction = model.predict(image_reshaped).reshape(-1)\n",
    "\n",
    "\n",
    "# Format the output\n",
    "prediction_category = prediction.argmax()\n",
    "certanty = prediction.max()\n",
    "\n",
    "\n",
    "# Print the result\n",
    "print(f\"prediction: {prediction_category} - {np.format_float_positional(certanty * 100, precision=0)}\")\n"
   ]
  }
 ],
 "metadata": {
  "kernelspec": {
   "display_name": "Python 3.9.13 ('tf')",
   "language": "python",
   "name": "python3"
  },
  "language_info": {
   "codemirror_mode": {
    "name": "ipython",
    "version": 3
   },
   "file_extension": ".py",
   "mimetype": "text/x-python",
   "name": "python",
   "nbconvert_exporter": "python",
   "pygments_lexer": "ipython3",
   "version": "3.9.13"
  },
  "orig_nbformat": 4,
  "vscode": {
   "interpreter": {
    "hash": "4c71363af0d8e8a6f7e95a64290b7fb18f5b9f75a37ba6cf7b62e908f44e3ca3"
   }
  }
 },
 "nbformat": 4,
 "nbformat_minor": 2
}
